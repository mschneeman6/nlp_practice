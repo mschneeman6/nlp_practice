{
 "cells": [
  {
   "cell_type": "markdown",
   "id": "a7fc570e",
   "metadata": {},
   "source": [
    "# Sharing Test #"
   ]
  },
  {
   "cell_type": "code",
   "execution_count": null,
   "id": "e4f1f580",
   "metadata": {},
   "outputs": [],
   "source": [
    "myText= \"One by one, the free lands of Middle-Earth fell to the power of the Ring, but there were some who resisted. A last alliance of men and elves marched against the armies of Mordor, and on the very slopes of Mount Doom, they fought for the freedom of Middle-Earth. Victory was near, but the power of the ring could not be undone. It was in this moment, when all hope had faded, that Isildur, son of the king, took up his father’s sword.\""
   ]
  },
  {
   "cell_type": "code",
   "execution_count": null,
   "id": "22a94ee9",
   "metadata": {},
   "outputs": [],
   "source": [
    "myText=myText.split()\n",
    "for word in myText:\n",
    "    if word.startswith('t') or word.startswith('T')or word.startswith('d') or word.startswith('D'):\n",
    "        print(word)\n",
    "    else:\n",
    "        pass"
   ]
  }
 ],
 "metadata": {
  "kernelspec": {
   "display_name": "Python 3 (ipykernel)",
   "language": "python",
   "name": "python3"
  },
  "language_info": {
   "codemirror_mode": {
    "name": "ipython",
    "version": 3
   },
   "file_extension": ".py",
   "mimetype": "text/x-python",
   "name": "python",
   "nbconvert_exporter": "python",
   "pygments_lexer": "ipython3",
   "version": "3.10.9"
  }
 },
 "nbformat": 4,
 "nbformat_minor": 5
}
